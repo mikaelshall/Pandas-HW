{
 "cells": [
  {
   "cell_type": "markdown",
   "metadata": {},
   "source": [
    "### Note\n",
    "* Instructions have been included for each segment. You do not have to follow them exactly, but they are included to help you think through the steps."
   ]
  },
  {
   "cell_type": "code",
   "execution_count": 3,
   "metadata": {},
   "outputs": [],
   "source": [
    "# Dependencies and Setup\n",
    "import pandas as pd\n",
    "\n",
    "# File to Load (Remember to Change These)\n",
    "file_to_load = \"Resources/purchase_data.csv\"\n",
    "\n",
    "# Read Purchasing File and store into Pandas data frame\n",
    "purchase_data = pd.read_csv(file_to_load)"
   ]
  },
  {
   "cell_type": "code",
   "execution_count": 4,
   "metadata": {},
   "outputs": [
    {
     "data": {
      "text/html": [
       "<div>\n",
       "<style scoped>\n",
       "    .dataframe tbody tr th:only-of-type {\n",
       "        vertical-align: middle;\n",
       "    }\n",
       "\n",
       "    .dataframe tbody tr th {\n",
       "        vertical-align: top;\n",
       "    }\n",
       "\n",
       "    .dataframe thead th {\n",
       "        text-align: right;\n",
       "    }\n",
       "</style>\n",
       "<table border=\"1\" class=\"dataframe\">\n",
       "  <thead>\n",
       "    <tr style=\"text-align: right;\">\n",
       "      <th></th>\n",
       "      <th>Purchase ID</th>\n",
       "      <th>SN</th>\n",
       "      <th>Age</th>\n",
       "      <th>Gender</th>\n",
       "      <th>Item ID</th>\n",
       "      <th>Item Name</th>\n",
       "      <th>Price</th>\n",
       "    </tr>\n",
       "  </thead>\n",
       "  <tbody>\n",
       "    <tr>\n",
       "      <th>0</th>\n",
       "      <td>0</td>\n",
       "      <td>Lisim78</td>\n",
       "      <td>20</td>\n",
       "      <td>Male</td>\n",
       "      <td>108</td>\n",
       "      <td>Extraction, Quickblade Of Trembling Hands</td>\n",
       "      <td>3.53</td>\n",
       "    </tr>\n",
       "    <tr>\n",
       "      <th>1</th>\n",
       "      <td>1</td>\n",
       "      <td>Lisovynya38</td>\n",
       "      <td>40</td>\n",
       "      <td>Male</td>\n",
       "      <td>143</td>\n",
       "      <td>Frenzied Scimitar</td>\n",
       "      <td>1.56</td>\n",
       "    </tr>\n",
       "    <tr>\n",
       "      <th>2</th>\n",
       "      <td>2</td>\n",
       "      <td>Ithergue48</td>\n",
       "      <td>24</td>\n",
       "      <td>Male</td>\n",
       "      <td>92</td>\n",
       "      <td>Final Critic</td>\n",
       "      <td>4.88</td>\n",
       "    </tr>\n",
       "    <tr>\n",
       "      <th>3</th>\n",
       "      <td>3</td>\n",
       "      <td>Chamassasya86</td>\n",
       "      <td>24</td>\n",
       "      <td>Male</td>\n",
       "      <td>100</td>\n",
       "      <td>Blindscythe</td>\n",
       "      <td>3.27</td>\n",
       "    </tr>\n",
       "    <tr>\n",
       "      <th>4</th>\n",
       "      <td>4</td>\n",
       "      <td>Iskosia90</td>\n",
       "      <td>23</td>\n",
       "      <td>Male</td>\n",
       "      <td>131</td>\n",
       "      <td>Fury</td>\n",
       "      <td>1.44</td>\n",
       "    </tr>\n",
       "  </tbody>\n",
       "</table>\n",
       "</div>"
      ],
      "text/plain": [
       "   Purchase ID             SN  Age Gender  Item ID  \\\n",
       "0            0        Lisim78   20   Male      108   \n",
       "1            1    Lisovynya38   40   Male      143   \n",
       "2            2     Ithergue48   24   Male       92   \n",
       "3            3  Chamassasya86   24   Male      100   \n",
       "4            4      Iskosia90   23   Male      131   \n",
       "\n",
       "                                   Item Name  Price  \n",
       "0  Extraction, Quickblade Of Trembling Hands   3.53  \n",
       "1                          Frenzied Scimitar   1.56  \n",
       "2                               Final Critic   4.88  \n",
       "3                                Blindscythe   3.27  \n",
       "4                                       Fury   1.44  "
      ]
     },
     "execution_count": 4,
     "metadata": {},
     "output_type": "execute_result"
    }
   ],
   "source": [
    "purchase_data.head()"
   ]
  },
  {
   "cell_type": "markdown",
   "metadata": {},
   "source": [
    "## Player Count"
   ]
  },
  {
   "cell_type": "markdown",
   "metadata": {},
   "source": [
    "* Display the total number of players\n"
   ]
  },
  {
   "cell_type": "code",
   "execution_count": 5,
   "metadata": {},
   "outputs": [
    {
     "data": {
      "text/html": [
       "<div>\n",
       "<style scoped>\n",
       "    .dataframe tbody tr th:only-of-type {\n",
       "        vertical-align: middle;\n",
       "    }\n",
       "\n",
       "    .dataframe tbody tr th {\n",
       "        vertical-align: top;\n",
       "    }\n",
       "\n",
       "    .dataframe thead th {\n",
       "        text-align: right;\n",
       "    }\n",
       "</style>\n",
       "<table border=\"1\" class=\"dataframe\">\n",
       "  <thead>\n",
       "    <tr style=\"text-align: right;\">\n",
       "      <th></th>\n",
       "      <th>Total Players</th>\n",
       "    </tr>\n",
       "  </thead>\n",
       "  <tbody>\n",
       "    <tr>\n",
       "      <th>0</th>\n",
       "      <td>576</td>\n",
       "    </tr>\n",
       "  </tbody>\n",
       "</table>\n",
       "</div>"
      ],
      "text/plain": [
       "   Total Players\n",
       "0            576"
      ]
     },
     "execution_count": 5,
     "metadata": {},
     "output_type": "execute_result"
    }
   ],
   "source": [
    "total_players = len(purchase_data[\"SN\"].value_counts())\n",
    "\n",
    "player_count = pd.DataFrame({\"Total Players\":[total_players]})\n",
    "player_count"
   ]
  },
  {
   "cell_type": "code",
   "execution_count": null,
   "metadata": {},
   "outputs": [],
   "source": []
  },
  {
   "cell_type": "markdown",
   "metadata": {},
   "source": [
    "## Purchasing Analysis (Total)"
   ]
  },
  {
   "cell_type": "markdown",
   "metadata": {},
   "source": [
    "* Run basic calculations to obtain number of unique items, average price, etc.\n",
    "\n",
    "\n",
    "* Create a summary data frame to hold the results\n",
    "\n",
    "\n",
    "* Optional: give the displayed data cleaner formatting\n",
    "\n",
    "\n",
    "* Display the summary data frame\n"
   ]
  },
  {
   "cell_type": "code",
   "execution_count": 6,
   "metadata": {
    "scrolled": true
   },
   "outputs": [
    {
     "ename": "SyntaxError",
     "evalue": "invalid syntax (<ipython-input-6-ba044132f651>, line 13)",
     "output_type": "error",
     "traceback": [
      "\u001b[0;36m  File \u001b[0;32m\"<ipython-input-6-ba044132f651>\"\u001b[0;36m, line \u001b[0;32m13\u001b[0m\n\u001b[0;31m    'Total Revenue': '${:,.2f}'})\u001b[0m\n\u001b[0m                   ^\u001b[0m\n\u001b[0;31mSyntaxError\u001b[0m\u001b[0;31m:\u001b[0m invalid syntax\n"
     ]
    }
   ],
   "source": [
    "unique_items = len((purchase_data['Item ID']).unique())\n",
    "average_price = (purchase_data['Price']).mean()\n",
    "number_of_purchases = (purchase_data['Purchase ID']).count()\n",
    "total_revenue = purchase = (purchase_data['Price']).sum()\n",
    "\n",
    "# Summary of Data Frame to hold the results \n",
    "summary_df = pd.DataFrame({'Number of Unique Items':[unique_items],\n",
    "                           'Average Price':[average_price],\n",
    "                           'Number of Purchases':[number_of_purchases],\n",
    "                           'Total Revenue':[total_revenue]})\n",
    "# Display data frame\n",
    "summary_df.style.format({'Average Price': '${:,.2f}'\n",
    "                         'Total Revenue': '${:,.2f}'})"
   ]
  },
  {
   "cell_type": "markdown",
   "metadata": {},
   "source": [
    "## Gender Demographics"
   ]
  },
  {
   "cell_type": "markdown",
   "metadata": {},
   "source": [
    "* Percentage and Count of Male Players\n",
    "\n",
    "\n",
    "* Percentage and Count of Female Players\n",
    "\n",
    "\n",
    "* Percentage and Count of Other / Non-Disclosed\n",
    "\n",
    "\n"
   ]
  },
  {
   "cell_type": "code",
   "execution_count": 7,
   "metadata": {},
   "outputs": [],
   "source": [
    "# Percantage of male players\n",
    "gender_stats = purchase_data.groupby('Gender')\n",
    "\n",
    "# Total of screen names by gender\n",
    "total_count_gender = gender_stats.nunique()['SN']\n",
    "\n",
    "# Total count by gender and divide by players\n",
    "percentage_of_players = total_count_gender / total_players * 100\n",
    "\n",
    "# Create DataFrame with the demographics\n",
    "gender_demographics = pd.DataFrame({'Percentage of Players': percentage_of_players, 'Total Count': total_count_gender})\n",
    "\n",
    "gender_demographics.index.name = None\n"
   ]
  },
  {
   "cell_type": "markdown",
   "metadata": {},
   "source": [
    "\n",
    "## Purchasing Analysis (Gender)"
   ]
  },
  {
   "cell_type": "markdown",
   "metadata": {},
   "source": [
    "* Run basic calculations to obtain purchase count, avg. purchase price, avg. purchase total per person etc. by gender\n",
    "\n",
    "\n",
    "\n",
    "\n",
    "* Create a summary data frame to hold the results\n",
    "\n",
    "\n",
    "* Optional: give the displayed data cleaner formatting\n",
    "\n",
    "\n",
    "* Display the summary data frame"
   ]
  },
  {
   "cell_type": "code",
   "execution_count": 8,
   "metadata": {},
   "outputs": [
    {
     "data": {
      "text/html": [
       "<style  type=\"text/css\" >\n",
       "</style><table id=\"T_9d274992_01d0_11eb_ae86_d4619d1ecbac\" ><thead>    <tr>        <th class=\"blank level0\" ></th>        <th class=\"col_heading level0 col0\" >Purchase Count</th>        <th class=\"col_heading level0 col1\" >Average Purchase Price</th>        <th class=\"col_heading level0 col2\" >Average Purchase Value</th>        <th class=\"col_heading level0 col3\" >Average Purchase Total Per Persom</th>    </tr>    <tr>        <th class=\"index_name level0\" >Gender</th>        <th class=\"blank\" ></th>        <th class=\"blank\" ></th>        <th class=\"blank\" ></th>        <th class=\"blank\" ></th>    </tr></thead><tbody>\n",
       "                <tr>\n",
       "                        <th id=\"T_9d274992_01d0_11eb_ae86_d4619d1ecbaclevel0_row0\" class=\"row_heading level0 row0\" >Female</th>\n",
       "                        <td id=\"T_9d274992_01d0_11eb_ae86_d4619d1ecbacrow0_col0\" class=\"data row0 col0\" >113</td>\n",
       "                        <td id=\"T_9d274992_01d0_11eb_ae86_d4619d1ecbacrow0_col1\" class=\"data row0 col1\" >$3.20</td>\n",
       "                        <td id=\"T_9d274992_01d0_11eb_ae86_d4619d1ecbacrow0_col2\" class=\"data row0 col2\" >$361.94</td>\n",
       "                        <td id=\"T_9d274992_01d0_11eb_ae86_d4619d1ecbacrow0_col3\" class=\"data row0 col3\" >4.468395</td>\n",
       "            </tr>\n",
       "            <tr>\n",
       "                        <th id=\"T_9d274992_01d0_11eb_ae86_d4619d1ecbaclevel0_row1\" class=\"row_heading level0 row1\" >Male</th>\n",
       "                        <td id=\"T_9d274992_01d0_11eb_ae86_d4619d1ecbacrow1_col0\" class=\"data row1 col0\" >652</td>\n",
       "                        <td id=\"T_9d274992_01d0_11eb_ae86_d4619d1ecbacrow1_col1\" class=\"data row1 col1\" >$3.02</td>\n",
       "                        <td id=\"T_9d274992_01d0_11eb_ae86_d4619d1ecbacrow1_col2\" class=\"data row1 col2\" >$1,967.64</td>\n",
       "                        <td id=\"T_9d274992_01d0_11eb_ae86_d4619d1ecbacrow1_col3\" class=\"data row1 col3\" >4.065372</td>\n",
       "            </tr>\n",
       "            <tr>\n",
       "                        <th id=\"T_9d274992_01d0_11eb_ae86_d4619d1ecbaclevel0_row2\" class=\"row_heading level0 row2\" >Other / Non-Disclosed</th>\n",
       "                        <td id=\"T_9d274992_01d0_11eb_ae86_d4619d1ecbacrow2_col0\" class=\"data row2 col0\" >15</td>\n",
       "                        <td id=\"T_9d274992_01d0_11eb_ae86_d4619d1ecbacrow2_col1\" class=\"data row2 col1\" >$3.35</td>\n",
       "                        <td id=\"T_9d274992_01d0_11eb_ae86_d4619d1ecbacrow2_col2\" class=\"data row2 col2\" >$50.19</td>\n",
       "                        <td id=\"T_9d274992_01d0_11eb_ae86_d4619d1ecbacrow2_col3\" class=\"data row2 col3\" >4.562727</td>\n",
       "            </tr>\n",
       "    </tbody></table>"
      ],
      "text/plain": [
       "<pandas.io.formats.style.Styler at 0x7f85e8ff5400>"
      ]
     },
     "execution_count": 8,
     "metadata": {},
     "output_type": "execute_result"
    }
   ],
   "source": [
    "purchase_count = gender_stats['Purchase ID'].count()\n",
    "\n",
    "avg_purchase_price = gender_stats['Price'].mean()\n",
    "\n",
    "avg_purchase_total = gender_stats['Price'].sum()\n",
    "\n",
    "avg_purchase_per_person = avg_purchase_total/total_count_gender\n",
    "\n",
    "# create the dataframe\n",
    "\n",
    "gender_demographics = pd.DataFrame({'Purchase Count': purchase_count, \n",
    "                                    'Average Purchase Price': avg_purchase_price,\n",
    "                                    'Average Purchase Value': avg_purchase_total,\n",
    "                                    'Average Purchase Total Per Persom': avg_purchase_per_person})\n",
    "\n",
    "gender_demographics.index.name = 'Gender'\n",
    "\n",
    "gender_demographics.style.format({'Average Purchase Value':'${:,.2f}',\n",
    "                                  'Average Purchase Price':'${:,.2f}',\n",
    "                                  'Average Purchase Total per Person':'${:,.2f}'})"
   ]
  },
  {
   "cell_type": "markdown",
   "metadata": {},
   "source": [
    "## Age Demographics"
   ]
  },
  {
   "cell_type": "markdown",
   "metadata": {},
   "source": [
    "* Establish bins for ages\n",
    "\n",
    "\n",
    "* Categorize the existing players using the age bins. Hint: use pd.cut()\n",
    "\n",
    "\n",
    "* Calculate the numbers and percentages by age group\n",
    "\n",
    "\n",
    "* Create a summary data frame to hold the results\n",
    "\n",
    "\n",
    "* Optional: round the percentage column to two decimal points\n",
    "\n",
    "\n",
    "* Display Age Demographics Table\n"
   ]
  },
  {
   "cell_type": "code",
   "execution_count": 9,
   "metadata": {},
   "outputs": [
    {
     "data": {
      "text/html": [
       "<style  type=\"text/css\" >\n",
       "</style><table id=\"T_9d4ce974_01d0_11eb_86de_d4619d1ecbac\" ><thead>    <tr>        <th class=\"blank level0\" ></th>        <th class=\"col_heading level0 col0\" >Percentage of Players</th>        <th class=\"col_heading level0 col1\" >Total Count</th>    </tr></thead><tbody>\n",
       "                <tr>\n",
       "                        <th id=\"T_9d4ce974_01d0_11eb_86de_d4619d1ecbaclevel0_row0\" class=\"row_heading level0 row0\" ><10</th>\n",
       "                        <td id=\"T_9d4ce974_01d0_11eb_86de_d4619d1ecbacrow0_col0\" class=\"data row0 col0\" >0.00</td>\n",
       "                        <td id=\"T_9d4ce974_01d0_11eb_86de_d4619d1ecbacrow0_col1\" class=\"data row0 col1\" >0</td>\n",
       "            </tr>\n",
       "            <tr>\n",
       "                        <th id=\"T_9d4ce974_01d0_11eb_86de_d4619d1ecbaclevel0_row1\" class=\"row_heading level0 row1\" >10-14</th>\n",
       "                        <td id=\"T_9d4ce974_01d0_11eb_86de_d4619d1ecbacrow1_col0\" class=\"data row1 col0\" >6.77</td>\n",
       "                        <td id=\"T_9d4ce974_01d0_11eb_86de_d4619d1ecbacrow1_col1\" class=\"data row1 col1\" >39</td>\n",
       "            </tr>\n",
       "            <tr>\n",
       "                        <th id=\"T_9d4ce974_01d0_11eb_86de_d4619d1ecbaclevel0_row2\" class=\"row_heading level0 row2\" >15-19</th>\n",
       "                        <td id=\"T_9d4ce974_01d0_11eb_86de_d4619d1ecbacrow2_col0\" class=\"data row2 col0\" >18.58</td>\n",
       "                        <td id=\"T_9d4ce974_01d0_11eb_86de_d4619d1ecbacrow2_col1\" class=\"data row2 col1\" >107</td>\n",
       "            </tr>\n",
       "            <tr>\n",
       "                        <th id=\"T_9d4ce974_01d0_11eb_86de_d4619d1ecbaclevel0_row3\" class=\"row_heading level0 row3\" >20-24</th>\n",
       "                        <td id=\"T_9d4ce974_01d0_11eb_86de_d4619d1ecbacrow3_col0\" class=\"data row3 col0\" >44.79</td>\n",
       "                        <td id=\"T_9d4ce974_01d0_11eb_86de_d4619d1ecbacrow3_col1\" class=\"data row3 col1\" >258</td>\n",
       "            </tr>\n",
       "            <tr>\n",
       "                        <th id=\"T_9d4ce974_01d0_11eb_86de_d4619d1ecbaclevel0_row4\" class=\"row_heading level0 row4\" >25-29</th>\n",
       "                        <td id=\"T_9d4ce974_01d0_11eb_86de_d4619d1ecbacrow4_col0\" class=\"data row4 col0\" >13.37</td>\n",
       "                        <td id=\"T_9d4ce974_01d0_11eb_86de_d4619d1ecbacrow4_col1\" class=\"data row4 col1\" >77</td>\n",
       "            </tr>\n",
       "            <tr>\n",
       "                        <th id=\"T_9d4ce974_01d0_11eb_86de_d4619d1ecbaclevel0_row5\" class=\"row_heading level0 row5\" >30-34</th>\n",
       "                        <td id=\"T_9d4ce974_01d0_11eb_86de_d4619d1ecbacrow5_col0\" class=\"data row5 col0\" >9.03</td>\n",
       "                        <td id=\"T_9d4ce974_01d0_11eb_86de_d4619d1ecbacrow5_col1\" class=\"data row5 col1\" >52</td>\n",
       "            </tr>\n",
       "            <tr>\n",
       "                        <th id=\"T_9d4ce974_01d0_11eb_86de_d4619d1ecbaclevel0_row6\" class=\"row_heading level0 row6\" >35-39</th>\n",
       "                        <td id=\"T_9d4ce974_01d0_11eb_86de_d4619d1ecbacrow6_col0\" class=\"data row6 col0\" >5.38</td>\n",
       "                        <td id=\"T_9d4ce974_01d0_11eb_86de_d4619d1ecbacrow6_col1\" class=\"data row6 col1\" >31</td>\n",
       "            </tr>\n",
       "            <tr>\n",
       "                        <th id=\"T_9d4ce974_01d0_11eb_86de_d4619d1ecbaclevel0_row7\" class=\"row_heading level0 row7\" >40+</th>\n",
       "                        <td id=\"T_9d4ce974_01d0_11eb_86de_d4619d1ecbacrow7_col0\" class=\"data row7 col0\" >2.08</td>\n",
       "                        <td id=\"T_9d4ce974_01d0_11eb_86de_d4619d1ecbacrow7_col1\" class=\"data row7 col1\" >12</td>\n",
       "            </tr>\n",
       "    </tbody></table>"
      ],
      "text/plain": [
       "<pandas.io.formats.style.Styler at 0x7f85eaad0cf8>"
      ]
     },
     "execution_count": 9,
     "metadata": {},
     "output_type": "execute_result"
    }
   ],
   "source": [
    "# Make the Bins for ages of players\n",
    "age_bins = [0, 0.90, 14.90, 19.90, 24.90, 29.90, 34.90, 39.90, 99999]\n",
    "group_names = ['<10', '10-14', '15-19', '20-24', '25-29', '30-34', '35-39', '40+']\n",
    "\n",
    "purchase_data['Age Group'] = pd.cut(purchase_data['Age'],age_bins, labels = group_names)\n",
    "purchase_data\n",
    "\n",
    "age_group = purchase_data.groupby('Age Group')\n",
    "\n",
    "total_count_age = age_group['SN'].nunique()\n",
    "\n",
    "percentage_by_age = (total_count_age/total_players) * 100\n",
    "\n",
    "age_demographics = pd.DataFrame({'Percentage of Players': percentage_by_age, 'Total Count': total_count_age})\n",
    "\n",
    "age_demographics.index.name = None\n",
    "\n",
    "age_demographics.style.format({'Percentage of Players': '{:,.2f}'})"
   ]
  },
  {
   "cell_type": "markdown",
   "metadata": {},
   "source": [
    "## Purchasing Analysis (Age)"
   ]
  },
  {
   "cell_type": "markdown",
   "metadata": {},
   "source": [
    "* Bin the purchase_data data frame by age\n",
    "\n",
    "\n",
    "* Run basic calculations to obtain purchase count, avg. purchase price, avg. purchase total per person etc. in the table below\n",
    "\n",
    "\n",
    "* Create a summary data frame to hold the results\n",
    "\n",
    "\n",
    "* Optional: give the displayed data cleaner formatting\n",
    "\n",
    "\n",
    "* Display the summary data frame"
   ]
  },
  {
   "cell_type": "code",
   "execution_count": 10,
   "metadata": {},
   "outputs": [
    {
     "data": {
      "text/html": [
       "<style  type=\"text/css\" >\n",
       "</style><table id=\"T_9e4a3a00_01d0_11eb_a4bc_d4619d1ecbac\" ><thead>    <tr>        <th class=\"blank level0\" ></th>        <th class=\"col_heading level0 col0\" >Purchase Count</th>        <th class=\"col_heading level0 col1\" >Average Purchase Price</th>        <th class=\"col_heading level0 col2\" >Total Purchase Value</th>        <th class=\"col_heading level0 col3\" >Average Purchase Total per Person</th>    </tr></thead><tbody>\n",
       "                <tr>\n",
       "                        <th id=\"T_9e4a3a00_01d0_11eb_a4bc_d4619d1ecbaclevel0_row0\" class=\"row_heading level0 row0\" ><10</th>\n",
       "                        <td id=\"T_9e4a3a00_01d0_11eb_a4bc_d4619d1ecbacrow0_col0\" class=\"data row0 col0\" >0</td>\n",
       "                        <td id=\"T_9e4a3a00_01d0_11eb_a4bc_d4619d1ecbacrow0_col1\" class=\"data row0 col1\" >nan</td>\n",
       "                        <td id=\"T_9e4a3a00_01d0_11eb_a4bc_d4619d1ecbacrow0_col2\" class=\"data row0 col2\" >0.00</td>\n",
       "                        <td id=\"T_9e4a3a00_01d0_11eb_a4bc_d4619d1ecbacrow0_col3\" class=\"data row0 col3\" >nan</td>\n",
       "            </tr>\n",
       "            <tr>\n",
       "                        <th id=\"T_9e4a3a00_01d0_11eb_a4bc_d4619d1ecbaclevel0_row1\" class=\"row_heading level0 row1\" >10-14</th>\n",
       "                        <td id=\"T_9e4a3a00_01d0_11eb_a4bc_d4619d1ecbacrow1_col0\" class=\"data row1 col0\" >51</td>\n",
       "                        <td id=\"T_9e4a3a00_01d0_11eb_a4bc_d4619d1ecbacrow1_col1\" class=\"data row1 col1\" >3.14</td>\n",
       "                        <td id=\"T_9e4a3a00_01d0_11eb_a4bc_d4619d1ecbacrow1_col2\" class=\"data row1 col2\" >159.91</td>\n",
       "                        <td id=\"T_9e4a3a00_01d0_11eb_a4bc_d4619d1ecbacrow1_col3\" class=\"data row1 col3\" >4.10</td>\n",
       "            </tr>\n",
       "            <tr>\n",
       "                        <th id=\"T_9e4a3a00_01d0_11eb_a4bc_d4619d1ecbaclevel0_row2\" class=\"row_heading level0 row2\" >15-19</th>\n",
       "                        <td id=\"T_9e4a3a00_01d0_11eb_a4bc_d4619d1ecbacrow2_col0\" class=\"data row2 col0\" >136</td>\n",
       "                        <td id=\"T_9e4a3a00_01d0_11eb_a4bc_d4619d1ecbacrow2_col1\" class=\"data row2 col1\" >3.04</td>\n",
       "                        <td id=\"T_9e4a3a00_01d0_11eb_a4bc_d4619d1ecbacrow2_col2\" class=\"data row2 col2\" >412.89</td>\n",
       "                        <td id=\"T_9e4a3a00_01d0_11eb_a4bc_d4619d1ecbacrow2_col3\" class=\"data row2 col3\" >3.86</td>\n",
       "            </tr>\n",
       "            <tr>\n",
       "                        <th id=\"T_9e4a3a00_01d0_11eb_a4bc_d4619d1ecbaclevel0_row3\" class=\"row_heading level0 row3\" >20-24</th>\n",
       "                        <td id=\"T_9e4a3a00_01d0_11eb_a4bc_d4619d1ecbacrow3_col0\" class=\"data row3 col0\" >365</td>\n",
       "                        <td id=\"T_9e4a3a00_01d0_11eb_a4bc_d4619d1ecbacrow3_col1\" class=\"data row3 col1\" >3.05</td>\n",
       "                        <td id=\"T_9e4a3a00_01d0_11eb_a4bc_d4619d1ecbacrow3_col2\" class=\"data row3 col2\" >1,114.06</td>\n",
       "                        <td id=\"T_9e4a3a00_01d0_11eb_a4bc_d4619d1ecbacrow3_col3\" class=\"data row3 col3\" >4.32</td>\n",
       "            </tr>\n",
       "            <tr>\n",
       "                        <th id=\"T_9e4a3a00_01d0_11eb_a4bc_d4619d1ecbaclevel0_row4\" class=\"row_heading level0 row4\" >25-29</th>\n",
       "                        <td id=\"T_9e4a3a00_01d0_11eb_a4bc_d4619d1ecbacrow4_col0\" class=\"data row4 col0\" >101</td>\n",
       "                        <td id=\"T_9e4a3a00_01d0_11eb_a4bc_d4619d1ecbacrow4_col1\" class=\"data row4 col1\" >2.90</td>\n",
       "                        <td id=\"T_9e4a3a00_01d0_11eb_a4bc_d4619d1ecbacrow4_col2\" class=\"data row4 col2\" >293.00</td>\n",
       "                        <td id=\"T_9e4a3a00_01d0_11eb_a4bc_d4619d1ecbacrow4_col3\" class=\"data row4 col3\" >3.81</td>\n",
       "            </tr>\n",
       "            <tr>\n",
       "                        <th id=\"T_9e4a3a00_01d0_11eb_a4bc_d4619d1ecbaclevel0_row5\" class=\"row_heading level0 row5\" >30-34</th>\n",
       "                        <td id=\"T_9e4a3a00_01d0_11eb_a4bc_d4619d1ecbacrow5_col0\" class=\"data row5 col0\" >73</td>\n",
       "                        <td id=\"T_9e4a3a00_01d0_11eb_a4bc_d4619d1ecbacrow5_col1\" class=\"data row5 col1\" >2.93</td>\n",
       "                        <td id=\"T_9e4a3a00_01d0_11eb_a4bc_d4619d1ecbacrow5_col2\" class=\"data row5 col2\" >214.00</td>\n",
       "                        <td id=\"T_9e4a3a00_01d0_11eb_a4bc_d4619d1ecbacrow5_col3\" class=\"data row5 col3\" >4.12</td>\n",
       "            </tr>\n",
       "            <tr>\n",
       "                        <th id=\"T_9e4a3a00_01d0_11eb_a4bc_d4619d1ecbaclevel0_row6\" class=\"row_heading level0 row6\" >35-39</th>\n",
       "                        <td id=\"T_9e4a3a00_01d0_11eb_a4bc_d4619d1ecbacrow6_col0\" class=\"data row6 col0\" >41</td>\n",
       "                        <td id=\"T_9e4a3a00_01d0_11eb_a4bc_d4619d1ecbacrow6_col1\" class=\"data row6 col1\" >3.60</td>\n",
       "                        <td id=\"T_9e4a3a00_01d0_11eb_a4bc_d4619d1ecbacrow6_col2\" class=\"data row6 col2\" >147.67</td>\n",
       "                        <td id=\"T_9e4a3a00_01d0_11eb_a4bc_d4619d1ecbacrow6_col3\" class=\"data row6 col3\" >4.76</td>\n",
       "            </tr>\n",
       "            <tr>\n",
       "                        <th id=\"T_9e4a3a00_01d0_11eb_a4bc_d4619d1ecbaclevel0_row7\" class=\"row_heading level0 row7\" >40+</th>\n",
       "                        <td id=\"T_9e4a3a00_01d0_11eb_a4bc_d4619d1ecbacrow7_col0\" class=\"data row7 col0\" >13</td>\n",
       "                        <td id=\"T_9e4a3a00_01d0_11eb_a4bc_d4619d1ecbacrow7_col1\" class=\"data row7 col1\" >2.94</td>\n",
       "                        <td id=\"T_9e4a3a00_01d0_11eb_a4bc_d4619d1ecbacrow7_col2\" class=\"data row7 col2\" >38.24</td>\n",
       "                        <td id=\"T_9e4a3a00_01d0_11eb_a4bc_d4619d1ecbacrow7_col3\" class=\"data row7 col3\" >3.19</td>\n",
       "            </tr>\n",
       "    </tbody></table>"
      ],
      "text/plain": [
       "<pandas.io.formats.style.Styler at 0x7f85eaad0710>"
      ]
     },
     "execution_count": 10,
     "metadata": {},
     "output_type": "execute_result"
    }
   ],
   "source": [
    "purchase_count_age = age_group['Purchase ID'].count()\n",
    "\n",
    "avg_purchase_price_age = age_group['Price'].mean()\n",
    "\n",
    "total_purchase_value = age_group['Price'].sum()\n",
    "\n",
    "avg_purchase_per_person_age = total_purchase_value/total_count_age\n",
    "\n",
    "age_demographics = pd.DataFrame({'Purchase Count': purchase_count_age,\n",
    "                                 'Average Purchase Price': avg_purchase_price_age,\n",
    "                                 'Total Purchase Value': total_purchase_value,\n",
    "                                 'Average Purchase Total per Person': avg_purchase_per_person_age})\n",
    "\n",
    "age_demographics.index.name = None\n",
    "\n",
    "age_demographics.style.format({'Average Purchase Price':'{:,.2f}',\n",
    "                               'Total Purchase Value':'{:,.2f}', \n",
    "                              'Average Purchase Total per Person':'{:,.2f}'})"
   ]
  },
  {
   "cell_type": "markdown",
   "metadata": {},
   "source": [
    "## Top Spenders"
   ]
  },
  {
   "cell_type": "markdown",
   "metadata": {},
   "source": [
    "* Run basic calculations to obtain the results in the table below\n",
    "\n",
    "\n",
    "* Create a summary data frame to hold the results\n",
    "\n",
    "\n",
    "* Sort the total purchase value column in descending order\n",
    "\n",
    "\n",
    "* Optional: give the displayed data cleaner formatting\n",
    "\n",
    "\n",
    "* Display a preview of the summary data frame\n",
    "\n"
   ]
  },
  {
   "cell_type": "code",
   "execution_count": 11,
   "metadata": {},
   "outputs": [
    {
     "ename": "AttributeError",
     "evalue": "'bool' object has no attribute 'head'",
     "output_type": "error",
     "traceback": [
      "\u001b[0;31m---------------------------------------------------------------------------\u001b[0m",
      "\u001b[0;31mAttributeError\u001b[0m                            Traceback (most recent call last)",
      "\u001b[0;32m<ipython-input-11-f451a615a138>\u001b[0m in \u001b[0;36m<module>\u001b[0;34m\u001b[0m\n\u001b[1;32m     11\u001b[0m                              'Total Purchase Value':purchase_total_spender})\n\u001b[1;32m     12\u001b[0m \u001b[0;34m\u001b[0m\u001b[0m\n\u001b[0;32m---> 13\u001b[0;31m \u001b[0mformatted_spenders\u001b[0m \u001b[0;34m=\u001b[0m \u001b[0mtop_spenders\u001b[0m\u001b[0;34m.\u001b[0m\u001b[0msort\u001b[0m\u001b[0;34m.\u001b[0m\u001b[0mvalues\u001b[0m\u001b[0;34m[\u001b[0m\u001b[0;34m'Total Purhcase Value'\u001b[0m\u001b[0;34m]\u001b[0m\u001b[0;34m,\u001b[0m \u001b[0mascending\u001b[0m \u001b[0;34m=\u001b[0m \u001b[0;32mFalse\u001b[0m\u001b[0;34m.\u001b[0m\u001b[0mhead\u001b[0m\u001b[0;34m(\u001b[0m\u001b[0;34m)\u001b[0m\u001b[0;34m\u001b[0m\u001b[0;34m\u001b[0m\u001b[0m\n\u001b[0m\u001b[1;32m     14\u001b[0m \u001b[0;34m\u001b[0m\u001b[0m\n\u001b[1;32m     15\u001b[0m formatted_spenders.style.format({'Average Purchase Total':'${:,.2f}',\n",
      "\u001b[0;31mAttributeError\u001b[0m: 'bool' object has no attribute 'head'"
     ]
    }
   ],
   "source": [
    "spender_stats = purchase_data.groupby('SN')\n",
    "\n",
    "purchase_count_spender = spender_stats['Purchase ID'].count()\n",
    "\n",
    "avg_purchase_price_spender = spender_stats['Price'].mean()\n",
    "\n",
    "purchase_total_spender = spender_stats['Price'].sum()\n",
    "\n",
    "top_spenders = pd.DataFrame({'Purchase Count': purchase_count_spender,\n",
    "                             'Average Purchase Price':avg_purchase_price_spender,\n",
    "                             'Total Purchase Value':purchase_total_spender})\n",
    "\n",
    "formatted_spenders = top_spenders.sort.values['Total Purhcase Value'], ascending = False.head()\n",
    "                                              \n",
    "formatted_spenders.style.format({'Average Purchase Total':'${:,.2f}',\n",
    "                                 'Average Purchase Price':'${:,.2f}',\n",
    "                                 'Total Purchase Value':'${:,.2f}'})"
   ]
  },
  {
   "cell_type": "markdown",
   "metadata": {},
   "source": [
    "## Most Popular Items"
   ]
  },
  {
   "cell_type": "markdown",
   "metadata": {},
   "source": [
    "* Retrieve the Item ID, Item Name, and Item Price columns\n",
    "\n",
    "\n",
    "* Group by Item ID and Item Name. Perform calculations to obtain purchase count, average item price, and total purchase value\n",
    "\n",
    "\n",
    "* Create a summary data frame to hold the results\n",
    "\n",
    "\n",
    "* Sort the purchase count column in descending order\n",
    "\n",
    "\n",
    "* Optional: give the displayed data cleaner formatting\n",
    "\n",
    "\n",
    "* Display a preview of the summary data frame\n",
    "\n"
   ]
  },
  {
   "cell_type": "code",
   "execution_count": 35,
   "metadata": {},
   "outputs": [
    {
     "data": {
      "text/html": [
       "<style  type=\"text/css\" >\n",
       "</style><table id=\"T_475d0ee6_0100_11eb_81c8_d4619d1ecbac\" ><thead>    <tr>        <th class=\"blank\" ></th>        <th class=\"blank level0\" ></th>        <th class=\"col_heading level0 col0\" >Purchase Count</th>        <th class=\"col_heading level0 col1\" >Item Price</th>        <th class=\"col_heading level0 col2\" >Total Purchase Value</th>    </tr>    <tr>        <th class=\"index_name level0\" >Item ID</th>        <th class=\"index_name level1\" >Item Name</th>        <th class=\"blank\" ></th>        <th class=\"blank\" ></th>        <th class=\"blank\" ></th>    </tr></thead><tbody>\n",
       "                <tr>\n",
       "                        <th id=\"T_475d0ee6_0100_11eb_81c8_d4619d1ecbaclevel0_row0\" class=\"row_heading level0 row0\" >92</th>\n",
       "                        <th id=\"T_475d0ee6_0100_11eb_81c8_d4619d1ecbaclevel1_row0\" class=\"row_heading level1 row0\" >Final Critic</th>\n",
       "                        <td id=\"T_475d0ee6_0100_11eb_81c8_d4619d1ecbacrow0_col0\" class=\"data row0 col0\" >13</td>\n",
       "                        <td id=\"T_475d0ee6_0100_11eb_81c8_d4619d1ecbacrow0_col1\" class=\"data row0 col1\" >$4.61</td>\n",
       "                        <td id=\"T_475d0ee6_0100_11eb_81c8_d4619d1ecbacrow0_col2\" class=\"data row0 col2\" >$59.99</td>\n",
       "            </tr>\n",
       "            <tr>\n",
       "                        <th id=\"T_475d0ee6_0100_11eb_81c8_d4619d1ecbaclevel0_row1\" class=\"row_heading level0 row1\" >178</th>\n",
       "                        <th id=\"T_475d0ee6_0100_11eb_81c8_d4619d1ecbaclevel1_row1\" class=\"row_heading level1 row1\" >Oathbreaker, Last Hope of the Breaking Storm</th>\n",
       "                        <td id=\"T_475d0ee6_0100_11eb_81c8_d4619d1ecbacrow1_col0\" class=\"data row1 col0\" >12</td>\n",
       "                        <td id=\"T_475d0ee6_0100_11eb_81c8_d4619d1ecbacrow1_col1\" class=\"data row1 col1\" >$4.23</td>\n",
       "                        <td id=\"T_475d0ee6_0100_11eb_81c8_d4619d1ecbacrow1_col2\" class=\"data row1 col2\" >$50.76</td>\n",
       "            </tr>\n",
       "            <tr>\n",
       "                        <th id=\"T_475d0ee6_0100_11eb_81c8_d4619d1ecbaclevel0_row2\" class=\"row_heading level0 row2\" >145</th>\n",
       "                        <th id=\"T_475d0ee6_0100_11eb_81c8_d4619d1ecbaclevel1_row2\" class=\"row_heading level1 row2\" >Fiery Glass Crusader</th>\n",
       "                        <td id=\"T_475d0ee6_0100_11eb_81c8_d4619d1ecbacrow2_col0\" class=\"data row2 col0\" >9</td>\n",
       "                        <td id=\"T_475d0ee6_0100_11eb_81c8_d4619d1ecbacrow2_col1\" class=\"data row2 col1\" >$4.58</td>\n",
       "                        <td id=\"T_475d0ee6_0100_11eb_81c8_d4619d1ecbacrow2_col2\" class=\"data row2 col2\" >$41.22</td>\n",
       "            </tr>\n",
       "            <tr>\n",
       "                        <th id=\"T_475d0ee6_0100_11eb_81c8_d4619d1ecbaclevel0_row3\" class=\"row_heading level0 row3\" >132</th>\n",
       "                        <th id=\"T_475d0ee6_0100_11eb_81c8_d4619d1ecbaclevel1_row3\" class=\"row_heading level1 row3\" >Persuasion</th>\n",
       "                        <td id=\"T_475d0ee6_0100_11eb_81c8_d4619d1ecbacrow3_col0\" class=\"data row3 col0\" >9</td>\n",
       "                        <td id=\"T_475d0ee6_0100_11eb_81c8_d4619d1ecbacrow3_col1\" class=\"data row3 col1\" >$3.22</td>\n",
       "                        <td id=\"T_475d0ee6_0100_11eb_81c8_d4619d1ecbacrow3_col2\" class=\"data row3 col2\" >$28.99</td>\n",
       "            </tr>\n",
       "            <tr>\n",
       "                        <th id=\"T_475d0ee6_0100_11eb_81c8_d4619d1ecbaclevel0_row4\" class=\"row_heading level0 row4\" >108</th>\n",
       "                        <th id=\"T_475d0ee6_0100_11eb_81c8_d4619d1ecbaclevel1_row4\" class=\"row_heading level1 row4\" >Extraction, Quickblade Of Trembling Hands</th>\n",
       "                        <td id=\"T_475d0ee6_0100_11eb_81c8_d4619d1ecbacrow4_col0\" class=\"data row4 col0\" >9</td>\n",
       "                        <td id=\"T_475d0ee6_0100_11eb_81c8_d4619d1ecbacrow4_col1\" class=\"data row4 col1\" >$3.53</td>\n",
       "                        <td id=\"T_475d0ee6_0100_11eb_81c8_d4619d1ecbacrow4_col2\" class=\"data row4 col2\" >$31.77</td>\n",
       "            </tr>\n",
       "    </tbody></table>"
      ],
      "text/plain": [
       "<pandas.io.formats.style.Styler at 0x7fa82c414828>"
      ]
     },
     "execution_count": 35,
     "metadata": {},
     "output_type": "execute_result"
    }
   ],
   "source": [
    "items = purchase_data[['Item ID', 'Item Name', 'Price']]\n",
    "\n",
    "item_stats = items.groupby(['Item ID', 'Item Name'])\n",
    "\n",
    "purchase_count_item = item_stats['Price'].count()\n",
    "\n",
    "purchase_value = (item_stats['Price'].sum())\n",
    "\n",
    "item_price = purchase_value/purchase_count_item\n",
    "\n",
    "most_popular_items = pd.DataFrame({'Purchase Count': purchase_count_item,\n",
    "                                   'Item Price': item_price,\n",
    "                                   'Total Purchase Value': purchase_value})\n",
    "\n",
    "popular_formatted = most_popular_items.sort_values(['Purchase Count'], ascending=False).head()\n",
    "\n",
    "popular_formatted.style.format({'Item Price':'${:,.2f}',\n",
    "                               'Total Purchase Value':'${:,.2f}'})"
   ]
  },
  {
   "cell_type": "markdown",
   "metadata": {},
   "source": [
    "## Most Profitable Items"
   ]
  },
  {
   "cell_type": "markdown",
   "metadata": {},
   "source": [
    "* Sort the above table by total purchase value in descending order\n",
    "\n",
    "\n",
    "* Optional: give the displayed data cleaner formatting\n",
    "\n",
    "\n",
    "* Display a preview of the data frame\n",
    "\n"
   ]
  },
  {
   "cell_type": "code",
   "execution_count": 39,
   "metadata": {
    "scrolled": true
   },
   "outputs": [
    {
     "data": {
      "text/html": [
       "<style  type=\"text/css\" >\n",
       "</style><table id=\"T_8d58989e_0102_11eb_9ce0_d4619d1ecbac\" ><thead>    <tr>        <th class=\"blank\" ></th>        <th class=\"blank level0\" ></th>        <th class=\"col_heading level0 col0\" >Purchase Count</th>        <th class=\"col_heading level0 col1\" >Item Price</th>        <th class=\"col_heading level0 col2\" >Total Purchase Value</th>    </tr>    <tr>        <th class=\"index_name level0\" >Item ID</th>        <th class=\"index_name level1\" >Item Name</th>        <th class=\"blank\" ></th>        <th class=\"blank\" ></th>        <th class=\"blank\" ></th>    </tr></thead><tbody>\n",
       "                <tr>\n",
       "                        <th id=\"T_8d58989e_0102_11eb_9ce0_d4619d1ecbaclevel0_row0\" class=\"row_heading level0 row0\" >92</th>\n",
       "                        <th id=\"T_8d58989e_0102_11eb_9ce0_d4619d1ecbaclevel1_row0\" class=\"row_heading level1 row0\" >Final Critic</th>\n",
       "                        <td id=\"T_8d58989e_0102_11eb_9ce0_d4619d1ecbacrow0_col0\" class=\"data row0 col0\" >13</td>\n",
       "                        <td id=\"T_8d58989e_0102_11eb_9ce0_d4619d1ecbacrow0_col1\" class=\"data row0 col1\" >4.614615</td>\n",
       "                        <td id=\"T_8d58989e_0102_11eb_9ce0_d4619d1ecbacrow0_col2\" class=\"data row0 col2\" >$59.99</td>\n",
       "            </tr>\n",
       "            <tr>\n",
       "                        <th id=\"T_8d58989e_0102_11eb_9ce0_d4619d1ecbaclevel0_row1\" class=\"row_heading level0 row1\" >178</th>\n",
       "                        <th id=\"T_8d58989e_0102_11eb_9ce0_d4619d1ecbaclevel1_row1\" class=\"row_heading level1 row1\" >Oathbreaker, Last Hope of the Breaking Storm</th>\n",
       "                        <td id=\"T_8d58989e_0102_11eb_9ce0_d4619d1ecbacrow1_col0\" class=\"data row1 col0\" >12</td>\n",
       "                        <td id=\"T_8d58989e_0102_11eb_9ce0_d4619d1ecbacrow1_col1\" class=\"data row1 col1\" >4.230000</td>\n",
       "                        <td id=\"T_8d58989e_0102_11eb_9ce0_d4619d1ecbacrow1_col2\" class=\"data row1 col2\" >$50.76</td>\n",
       "            </tr>\n",
       "            <tr>\n",
       "                        <th id=\"T_8d58989e_0102_11eb_9ce0_d4619d1ecbaclevel0_row2\" class=\"row_heading level0 row2\" >82</th>\n",
       "                        <th id=\"T_8d58989e_0102_11eb_9ce0_d4619d1ecbaclevel1_row2\" class=\"row_heading level1 row2\" >Nirvana</th>\n",
       "                        <td id=\"T_8d58989e_0102_11eb_9ce0_d4619d1ecbacrow2_col0\" class=\"data row2 col0\" >9</td>\n",
       "                        <td id=\"T_8d58989e_0102_11eb_9ce0_d4619d1ecbacrow2_col1\" class=\"data row2 col1\" >4.900000</td>\n",
       "                        <td id=\"T_8d58989e_0102_11eb_9ce0_d4619d1ecbacrow2_col2\" class=\"data row2 col2\" >$44.10</td>\n",
       "            </tr>\n",
       "            <tr>\n",
       "                        <th id=\"T_8d58989e_0102_11eb_9ce0_d4619d1ecbaclevel0_row3\" class=\"row_heading level0 row3\" >145</th>\n",
       "                        <th id=\"T_8d58989e_0102_11eb_9ce0_d4619d1ecbaclevel1_row3\" class=\"row_heading level1 row3\" >Fiery Glass Crusader</th>\n",
       "                        <td id=\"T_8d58989e_0102_11eb_9ce0_d4619d1ecbacrow3_col0\" class=\"data row3 col0\" >9</td>\n",
       "                        <td id=\"T_8d58989e_0102_11eb_9ce0_d4619d1ecbacrow3_col1\" class=\"data row3 col1\" >4.580000</td>\n",
       "                        <td id=\"T_8d58989e_0102_11eb_9ce0_d4619d1ecbacrow3_col2\" class=\"data row3 col2\" >$41.22</td>\n",
       "            </tr>\n",
       "            <tr>\n",
       "                        <th id=\"T_8d58989e_0102_11eb_9ce0_d4619d1ecbaclevel0_row4\" class=\"row_heading level0 row4\" >103</th>\n",
       "                        <th id=\"T_8d58989e_0102_11eb_9ce0_d4619d1ecbaclevel1_row4\" class=\"row_heading level1 row4\" >Singed Scalpel</th>\n",
       "                        <td id=\"T_8d58989e_0102_11eb_9ce0_d4619d1ecbacrow4_col0\" class=\"data row4 col0\" >8</td>\n",
       "                        <td id=\"T_8d58989e_0102_11eb_9ce0_d4619d1ecbacrow4_col1\" class=\"data row4 col1\" >4.350000</td>\n",
       "                        <td id=\"T_8d58989e_0102_11eb_9ce0_d4619d1ecbacrow4_col2\" class=\"data row4 col2\" >$34.80</td>\n",
       "            </tr>\n",
       "    </tbody></table>"
      ],
      "text/plain": [
       "<pandas.io.formats.style.Styler at 0x7fa82c3a4cc0>"
      ]
     },
     "execution_count": 39,
     "metadata": {},
     "output_type": "execute_result"
    }
   ],
   "source": [
    "popular_formatted = most_popular_items.sort_values(['Total Purchase Value'],\n",
    "                                                  ascending = False).head()\n",
    "\n",
    "popular_formatted.style.format({'Items Price':'${:,.2f}',\n",
    "                               'Total Purchase Value':'${:,.2f}'})"
   ]
  },
  {
   "cell_type": "code",
   "execution_count": null,
   "metadata": {},
   "outputs": [],
   "source": [
    "# What we can gather from this data\n",
    "\n",
    "The demoprahic that spends the most money on video games in the age group of 20-24, the data shows this demographic has a total purchase value of $1114.06\n",
    "\n",
    "There is what we would presume to be a bell curve increase when looking at the age demo. In childhood there is a relatvly lower prominance in playing video games until age reaches the later teenage years and the beginning of the 20s. At the late 20s we start to see a significant decline. \n"
   ]
  },
  {
   "cell_type": "code",
   "execution_count": null,
   "metadata": {},
   "outputs": [],
   "source": []
  },
  {
   "cell_type": "code",
   "execution_count": null,
   "metadata": {},
   "outputs": [],
   "source": []
  }
 ],
 "metadata": {
  "anaconda-cloud": {},
  "kernel_info": {
   "name": "python3"
  },
  "kernelspec": {
   "display_name": "Python [conda env:PythonData] *",
   "language": "python",
   "name": "conda-env-PythonData-py"
  },
  "language_info": {
   "codemirror_mode": {
    "name": "ipython",
    "version": 3
   },
   "file_extension": ".py",
   "mimetype": "text/x-python",
   "name": "python",
   "nbconvert_exporter": "python",
   "pygments_lexer": "ipython3",
   "version": "3.6.10"
  },
  "latex_envs": {
   "LaTeX_envs_menu_present": true,
   "autoclose": false,
   "autocomplete": true,
   "bibliofile": "biblio.bib",
   "cite_by": "apalike",
   "current_citInitial": 1,
   "eqLabelWithNumbers": true,
   "eqNumInitial": 1,
   "hotkeys": {
    "equation": "Ctrl-E",
    "itemize": "Ctrl-I"
   },
   "labels_anchors": false,
   "latex_user_defs": false,
   "report_style_numbering": false,
   "user_envs_cfg": false
  },
  "nteract": {
   "version": "0.2.0"
  }
 },
 "nbformat": 4,
 "nbformat_minor": 2
}
